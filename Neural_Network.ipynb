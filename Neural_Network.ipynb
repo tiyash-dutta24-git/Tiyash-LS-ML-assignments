{
  "nbformat": 4,
  "nbformat_minor": 0,
  "metadata": {
    "colab": {
      "provenance": []
    },
    "kernelspec": {
      "name": "python3",
      "display_name": "Python 3"
    },
    "language_info": {
      "name": "python"
    }
  },
  "cells": [
    {
      "cell_type": "code",
      "execution_count": null,
      "metadata": {
        "collapsed": true,
        "id": "Uyz-CJ1UVrjG"
      },
      "outputs": [],
      "source": [
        "#code to unzip the homer_bart.zip file\n",
        "\n",
        "!unzip homer_bart.zip\n"
      ]
    },
    {
      "cell_type": "code",
      "source": [
        "#import the images present in Bart and Homer folders, converting all of them into 64x64 images\n",
        "\n",
        "import cv2\n",
        "import os\n",
        "import numpy as np\n",
        "from PIL import Image\n",
        "\n",
        "# Create a function to load and resize images\n",
        "def load_and_resize_images(path, size=(64, 64)):\n",
        "    images = []\n",
        "    for filename in os.listdir(path):\n",
        "        # Load the image\n",
        "        image = cv2.imread(os.path.join(path, filename))\n",
        "        # Resize the image\n",
        "        image = cv2.resize(image, size)\n",
        "        # Convert the image to a NumPy array\n",
        "        image = np.array(image)\n",
        "        # Append the image to the list\n",
        "        images.append(image)\n",
        "    return images\n",
        "\n",
        "# Load the Homer and Bart images\n",
        "homer_images = load_and_resize_images('/content/Homer')\n",
        "bart_images = load_and_resize_images('/content/Bart')\n",
        "\n",
        "# Combine the Homer and Bart images\n",
        "all_images = homer_images + bart_images\n"
      ],
      "metadata": {
        "id": "ZqwQUTC1XcsJ"
      },
      "execution_count": 112,
      "outputs": []
    },
    {
      "cell_type": "code",
      "source": [
        "#The actual coding begins!\n",
        "import numpy as np\n",
        "import random\n",
        "from sklearn.model_selection import train_test_split\n",
        "from keras.models import Sequential\n",
        "from keras.layers import Flatten, Dense\n",
        "from keras.optimizers import Adam\n",
        "\n",
        "\n",
        "seed_value = 0\n",
        "random.seed(seed_value)\n",
        "np.random.seed(seed_value)\n",
        "tf.random.set_seed(seed_value)\n",
        "opt = Adam(learning_rate=0.001)\n",
        "\n",
        "# Convert the images to numerical data\n",
        "X = np.array(all_images)\n",
        "\n",
        "# Create the labels\n",
        "y = np.concatenate((np.zeros(len(homer_images)), np.ones(len(bart_images))))\n",
        "\n",
        "# Split the data into training and testing sets\n",
        "X_train, X_test, y_train, y_test = train_test_split(X, y,train_size=0.9, test_size=0.1, random_state=15)\n",
        "X_train = X_train.astype('float32') / 255.0\n",
        "X_test = X_test.astype('float32') / 255.0\n",
        "# Create the model\n",
        "model = Sequential()\n",
        "model.add(Flatten(input_shape=(64, 64, 3)))\n",
        "model.add(Dense(256, activation='relu'))\n",
        "model.add(Dense(128, activation='relu'))\n",
        "model.add(Dense(64, activation='relu'))\n",
        "model.add(Dense(32, activation='relu'))\n",
        "model.add(Dense(1, activation='sigmoid'))\n",
        "\n",
        "# Compile the model\n",
        "model.compile(loss='binary_crossentropy', optimizer=opt, metrics=['accuracy'])\n",
        "\n",
        "# Train the model\n",
        "model.fit(X_train, y_train, epochs=20, batch_size=32)\n",
        "\n",
        "# Evaluate the model on the test set\n",
        "test_loss, test_acc = model.evaluate(X_test, y_test)\n",
        "print('Test accuracy:', test_acc*100, '%')\n"
      ],
      "metadata": {
        "colab": {
          "base_uri": "https://localhost:8080/"
        },
        "id": "qc-8Sbk_umFQ",
        "outputId": "d652ff14-169b-42b4-ffb3-0acfb45a71f3"
      },
      "execution_count": 114,
      "outputs": [
        {
          "output_type": "stream",
          "name": "stdout",
          "text": [
            "Epoch 1/20\n",
            "8/8 [==============================] - 2s 57ms/step - loss: 1.6404 - accuracy: 0.5537\n",
            "Epoch 2/20\n",
            "8/8 [==============================] - 0s 63ms/step - loss: 0.6576 - accuracy: 0.5702\n",
            "Epoch 3/20\n",
            "8/8 [==============================] - 1s 65ms/step - loss: 0.6425 - accuracy: 0.7190\n",
            "Epoch 4/20\n",
            "8/8 [==============================] - 0s 57ms/step - loss: 0.5652 - accuracy: 0.7231\n",
            "Epoch 5/20\n",
            "8/8 [==============================] - 0s 54ms/step - loss: 0.4252 - accuracy: 0.7934\n",
            "Epoch 6/20\n",
            "8/8 [==============================] - 0s 53ms/step - loss: 0.4705 - accuracy: 0.7851\n",
            "Epoch 7/20\n",
            "8/8 [==============================] - 1s 65ms/step - loss: 0.6167 - accuracy: 0.6818\n",
            "Epoch 8/20\n",
            "8/8 [==============================] - 1s 66ms/step - loss: 0.5137 - accuracy: 0.7562\n",
            "Epoch 9/20\n",
            "8/8 [==============================] - 1s 68ms/step - loss: 0.3325 - accuracy: 0.8554\n",
            "Epoch 10/20\n",
            "8/8 [==============================] - 0s 42ms/step - loss: 0.2905 - accuracy: 0.8678\n",
            "Epoch 11/20\n",
            "8/8 [==============================] - 0s 44ms/step - loss: 0.2979 - accuracy: 0.8595\n",
            "Epoch 12/20\n",
            "8/8 [==============================] - 0s 39ms/step - loss: 0.2351 - accuracy: 0.8967\n",
            "Epoch 13/20\n",
            "8/8 [==============================] - 0s 39ms/step - loss: 0.2164 - accuracy: 0.9339\n",
            "Epoch 14/20\n",
            "8/8 [==============================] - 0s 45ms/step - loss: 0.2948 - accuracy: 0.8471\n",
            "Epoch 15/20\n",
            "8/8 [==============================] - 0s 42ms/step - loss: 0.4299 - accuracy: 0.7769\n",
            "Epoch 16/20\n",
            "8/8 [==============================] - 0s 40ms/step - loss: 0.2063 - accuracy: 0.9174\n",
            "Epoch 17/20\n",
            "8/8 [==============================] - 0s 46ms/step - loss: 0.1634 - accuracy: 0.9463\n",
            "Epoch 18/20\n",
            "8/8 [==============================] - 0s 43ms/step - loss: 0.1338 - accuracy: 0.9669\n",
            "Epoch 19/20\n",
            "8/8 [==============================] - 0s 43ms/step - loss: 0.1396 - accuracy: 0.9587\n",
            "Epoch 20/20\n",
            "8/8 [==============================] - 0s 40ms/step - loss: 0.1414 - accuracy: 0.9545\n",
            "1/1 [==============================] - 0s 169ms/step - loss: 0.4788 - accuracy: 0.9259\n",
            "Test accuracy: 92.59259104728699 %\n"
          ]
        }
      ]
    }
  ]
}
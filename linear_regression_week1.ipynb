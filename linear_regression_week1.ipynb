{
  "cells": [
    {
      "cell_type": "code",
      "execution_count": 83,
      "metadata": {
        "id": "-zTLHrFCT6KY"
      },
      "outputs": [],
      "source": [
        "import numpy as np\n",
        "import pandas as pd\n",
        "import matplotlib.pyplot as plt\n",
        "from sklearn import preprocessing \n",
        "\n",
        "# Aim is to predict the marks of students of the test data"
      ]
    },
    {
      "cell_type": "code",
      "execution_count": 84,
      "metadata": {
        "id": "p0KHq8ZgTpU4"
      },
      "outputs": [],
      "source": [
        "# Use the file namd 'training data' to train the model\n",
        "\n",
        "data = pd.read_excel('Training data.xlsx')\n",
        "x_train = np.array(data.iloc[:,0:8])\n",
        "y_train = np.array(data.iloc[:,8]).reshape(-1,1)\n",
        "\n",
        "# Try plotting y_train with different features\n",
        "# To get an idea whether to add some features or not\n",
        "# Add some features if required in x_train\n",
        "\n",
        "# Also do label encoding for features not represented in numbers\n",
        "# refer the link if not know : https://youtu.be/589nCGeWG1w?si=t2Wa7LgbUOO4RooM\n",
        "\n",
        "def feature_changing(x_train):\n",
        "  # ---------\n",
        "  label_encoder = preprocessing.LabelEncoder() \n",
        "  x_train[:, 0] = label_encoder.fit_transform(x_train[:, 0])\n",
        "  x_train[:, 1] = label_encoder.fit_transform(x_train[:, 1])\n",
        "  # ---------\n",
        "  return x_train\n",
        "\n",
        "x_train = feature_changing(x_train)"
      ]
    },
    {
      "cell_type": "code",
      "execution_count": 85,
      "metadata": {
        "id": "tYshvtYlVour"
      },
      "outputs": [],
      "source": [
        "def z_score(x_train):\n",
        "\n",
        "  # ---------\n",
        "  x_mean = np.mean(x_train, axis = 0)\n",
        "  x_std = np.std(x_train, axis = 0)\n",
        "  x_train = (x_train-x_mean)/x_std\n",
        "  # ---------\n",
        "\n",
        "  return x_train,x_std,x_mean"
      ]
    },
    {
      "cell_type": "code",
      "execution_count": 86,
      "metadata": {
        "id": "O5dOwbNbWJWa"
      },
      "outputs": [],
      "source": [
        "def cost(x_train,y_train,w,b):\n",
        "\n",
        "  # ---------\n",
        "    cost = 0\n",
        "    for i in range(x_train.shape[0]):\n",
        "      cost+= (y_train[i]-b-np.dot(x_train[i,:],w))**2\n",
        "    cost/=2000  \n",
        "  # ---------\n",
        "\n",
        "    return cost"
      ]
    },
    {
      "cell_type": "code",
      "execution_count": 87,
      "metadata": {
        "id": "hW8p2cTNU74W"
      },
      "outputs": [],
      "source": [
        "def gradient_descent(x_train,y_train,w,b):\n",
        "\n",
        "  # ---------\n",
        "    dj_dw = np.zeros((8,1))\n",
        "    dj_db = 0.\n",
        "\n",
        "    for i in range(x_train.shape[0]):                             \n",
        "        err = (np.dot(x_train[i,:], w) + b) - y_train[i]   \n",
        "        for j in range(x_train.shape[1]):                         \n",
        "            dj_dw[j] = dj_dw[j] + err * x_train[i, j]    \n",
        "        dj_db = dj_db + err                        \n",
        "    dj_dw = dj_dw / 1000                               \n",
        "    dj_db = dj_db / 1000                               \n",
        "        \n",
        "    w = w - 0.01 * dj_dw               \n",
        "    b = b - 0.01 * dj_db \n",
        "  # ---------\n",
        "\n",
        "    return w,b"
      ]
    },
    {
      "cell_type": "code",
      "execution_count": 88,
      "metadata": {
        "id": "Kl-fioJ5WkYn"
      },
      "outputs": [
        {
          "name": "stdout",
          "output_type": "stream",
          "text": [
            "Congratulations, your accuracy is 100.0%\n"
          ]
        }
      ],
      "source": [
        "x_train = x_train.astype(np.float64)\n",
        "x_train,x_std,x_mean = z_score(x_train)\n",
        "\n",
        "np.random.seed(2147483647)\n",
        "w = np.random.randn(x_train.shape[1],1)\n",
        "b = np.random.randn(1)\n",
        "\n",
        "old_cost = 0\n",
        "\n",
        "while abs(old_cost - cost(x_train,y_train,w,b))>0.00001:\n",
        "  old_cost = cost(x_train,y_train,w,b)\n",
        "  w,b = gradient_descent(x_train,y_train,w,b)\n",
        "\n",
        "x_predict = pd.read_excel('Test data.xlsx').iloc[:,:8].to_numpy()\n",
        "x_predict = feature_changing(x_predict)\n",
        "x_predict = (x_predict - x_mean)/x_std\n",
        "ans = pd.read_excel('Test data.xlsx').iloc[:,8].to_numpy()\n",
        "\n",
        "y_predict = np.dot(x_predict,w) + b\n",
        "\n",
        "accuracy = 0\n",
        "for dim in range(len(ans)):\n",
        "  if abs(y_predict[dim]-ans[dim])<0.5:\n",
        "    accuracy += 1\n",
        "accuracy = round(accuracy*100/200.0,2)\n",
        "ok = 'Congratulations' if accuracy>95 else 'Optimization required'\n",
        "print(f\"{ok}, your accuracy is {accuracy}%\")\n",
        "\n"
      ]
    }
  ],
  "metadata": {
    "colab": {
      "provenance": []
    },
    "kernelspec": {
      "display_name": "Python 3",
      "name": "python3"
    },
    "language_info": {
      "codemirror_mode": {
        "name": "ipython",
        "version": 3
      },
      "file_extension": ".py",
      "mimetype": "text/x-python",
      "name": "python",
      "nbconvert_exporter": "python",
      "pygments_lexer": "ipython3",
      "version": "3.10.4"
    }
  },
  "nbformat": 4,
  "nbformat_minor": 0
}
